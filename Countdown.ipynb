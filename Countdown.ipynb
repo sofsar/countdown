{
 "cells": [
  {
   "cell_type": "markdown",
   "id": "9ad27f8c",
   "metadata": {},
   "source": [
    "# Countdown\n",
    " Enter your date and time in the format asked and you'll get a countdown in days, hours, minutes and seconds.\n"
   ]
  },
  {
   "cell_type": "code",
   "execution_count": null,
   "id": "94ccb3bf",
   "metadata": {},
   "outputs": [
    {
     "name": "stdout",
     "output_type": "stream",
     "text": [
      "Enter your date in this format yyyy-mm-dd hh:mm\n",
      "2021-10-09 13:00\n",
      "42 days, 4:11:48 left\r"
     ]
    }
   ],
   "source": [
    "import datetime\n",
    "import time\n",
    "from datetime import timedelta\n",
    "\n",
    "def main ():\n",
    "    time_str = input(\"Enter your date in this format yyyy-mm-dd hh:mm\\n\")\n",
    "    data = datetime.datetime.strptime(time_str, \"%Y-%m-%d %H:%M\") \n",
    "    dif = int((data - datetime.datetime.now()).total_seconds())\n",
    "    \n",
    "    if dif < 0:\n",
    "            print(\"Your date is in the past!\") #If a past date is used, this won't let an endless countdown happen\n",
    "    \n",
    "    else:\n",
    "        while dif:\n",
    "        \n",
    "            dias = dif//86400\n",
    "            horas = dif - dias*86400//3600\n",
    "            minutos = (dif - dias*86400 - horas*3600)//60\n",
    "            segundos = dif - dias*86400 - horas*3600 - minutos*60\n",
    "    \n",
    "            delta = timedelta(\n",
    "                days = dias,\n",
    "                hours = horas,\n",
    "                minutes = minutos,\n",
    "                seconds = segundos,\n",
    "            )\n",
    "            \n",
    "            print(delta,\"left\",end='\\r')\n",
    "            time.sleep(1)\n",
    "            dif-=1\n",
    "        \n",
    "        if dif == 0:\n",
    "            print(\"It's finally here!\") #A little message for when it's done\n",
    "\n",
    "main()\n",
    "    "
   ]
  }
 ],
 "metadata": {
  "kernelspec": {
   "display_name": "Python 3",
   "language": "python",
   "name": "python3"
  },
  "language_info": {
   "codemirror_mode": {
    "name": "ipython",
    "version": 3
   },
   "file_extension": ".py",
   "mimetype": "text/x-python",
   "name": "python",
   "nbconvert_exporter": "python",
   "pygments_lexer": "ipython3",
   "version": "3.8.8"
  }
 },
 "nbformat": 4,
 "nbformat_minor": 5
}
